{
  "nbformat": 4,
  "nbformat_minor": 0,
  "metadata": {
    "colab": {
      "name": "CISC452-a3.ipynb",
      "provenance": [],
      "collapsed_sections": [],
      "include_colab_link": true
    },
    "kernelspec": {
      "name": "python3",
      "display_name": "Python 3"
    }
  },
  "cells": [
    {
      "cell_type": "markdown",
      "metadata": {
        "id": "view-in-github",
        "colab_type": "text"
      },
      "source": [
        "<a href=\"https://colab.research.google.com/github/MitchMathieu/cisc452-a3/blob/master/CISC452_a3.ipynb\" target=\"_parent\"><img src=\"https://colab.research.google.com/assets/colab-badge.svg\" alt=\"Open In Colab\"/></a>"
      ]
    },
    {
      "cell_type": "markdown",
      "metadata": {
        "id": "3pbzWvBHydQM",
        "colab_type": "text"
      },
      "source": [
        "# CISC 452 - Assignment 3\n",
        "IMPLEMENT A HYBRID COMPETITIVE LEARNING NETWORK"
      ]
    },
    {
      "cell_type": "code",
      "metadata": {
        "id": "TRQnJTQCPJed",
        "colab_type": "code",
        "outputId": "4231e1be-e7bd-444e-8fde-8b30e6412696",
        "colab": {
          "base_uri": "https://localhost:8080/",
          "height": 136
        }
      },
      "source": [
        "! git clone https://github.com/MitchMathieu/cisc452-a3.git\n",
        "! ls cisc452-a3"
      ],
      "execution_count": 1,
      "outputs": [
        {
          "output_type": "stream",
          "text": [
            "Cloning into 'cisc452-a3'...\n",
            "remote: Enumerating objects: 7, done.\u001b[K\n",
            "remote: Counting objects: 100% (7/7), done.\u001b[K\n",
            "remote: Compressing objects: 100% (7/7), done.\u001b[K\n",
            "remote: Total 7 (delta 0), reused 4 (delta 0), pack-reused 0\u001b[K\n",
            "Unpacking objects: 100% (7/7), done.\n",
            "CISC452_a3.ipynb  iris_test.txt  iris_train.txt\n"
          ],
          "name": "stdout"
        }
      ]
    },
    {
      "cell_type": "code",
      "metadata": {
        "id": "sA6gR2-2WTc8",
        "colab_type": "code",
        "colab": {}
      },
      "source": [
        "import numpy as np\n",
        "import random"
      ],
      "execution_count": 0,
      "outputs": []
    },
    {
      "cell_type": "code",
      "metadata": {
        "id": "n3qb_U23UkYX",
        "colab_type": "code",
        "colab": {}
      },
      "source": [
        "def read_txt(file_path):\n",
        "  x = []\n",
        "  y = []\n",
        "  f = open(file_path, 'r')\n",
        "  for line in f:\n",
        "    line = line.rstrip().split(',')\n",
        "    x.append(np.array(line[:-1], dtype=np.float32))\n",
        "    y.append(line[-1])\n",
        "  return np.array(x), np.array(y)"
      ],
      "execution_count": 0,
      "outputs": []
    },
    {
      "cell_type": "code",
      "metadata": {
        "id": "ohNwb0LHVlPN",
        "colab_type": "code",
        "colab": {}
      },
      "source": [
        "train_x, train_y = read_txt(\"cisc452-a3/iris_train.txt\")\n",
        "test_x, test_y = read_txt(\"cisc452-a3/iris_test.txt\")\n",
        "# print(train_x)\n",
        "# print(train_y)"
      ],
      "execution_count": 0,
      "outputs": []
    },
    {
      "cell_type": "markdown",
      "metadata": {
        "id": "BxKK50y5cnP4",
        "colab_type": "text"
      },
      "source": [
        "Encoding"
      ]
    },
    {
      "cell_type": "code",
      "metadata": {
        "id": "n8UN_8kLafLR",
        "colab_type": "code",
        "colab": {}
      },
      "source": [
        "def cat_to_vector(label):\n",
        "  # one hot encode the flower type\n",
        "  if label == \"Iris-setosa\":\n",
        "    return np.array([1, 0, 0], dtype=np.int)\n",
        "  elif label == \"Iris-versicolor\":\n",
        "    return np.array([0, 1, 0], dtype=np.int)\n",
        "  elif label == \"Iris-virginica\":\n",
        "    return np.array([0, 0, 1], dtype=np.int)\n",
        "    \n",
        "def vector_to_cat(vec):\n",
        "  if np.array_equal(vec, [1, 0, 0]):\n",
        "    return \"Iris-setosa\"\n",
        "  elif np.array_equal(vec, [0, 1, 0]):\n",
        "    return \"Iris-versicolor\"\n",
        "  elif np.array_equal(vec, [0, 0, 1]):\n",
        "    return \"Iris-virginica\"\n",
        "  \n",
        "def onehot_iris(arr):\n",
        "  arr_enc = []\n",
        "  for cat in arr:\n",
        "    vec = cat_to_vector(cat)\n",
        "    arr_enc.append(vec)\n",
        "  return np.array(arr_enc)"
      ],
      "execution_count": 0,
      "outputs": []
    },
    {
      "cell_type": "code",
      "metadata": {
        "id": "sDHP8OcUW9nd",
        "colab_type": "code",
        "colab": {}
      },
      "source": [
        "train_y_enc = onehot_iris(train_y)\n",
        "test_y_enc = onehot_iris(test_y)"
      ],
      "execution_count": 0,
      "outputs": []
    },
    {
      "cell_type": "markdown",
      "metadata": {
        "id": "akmMoF3a11Wc",
        "colab_type": "text"
      },
      "source": [
        "# LVQ1"
      ]
    },
    {
      "cell_type": "code",
      "metadata": {
        "id": "Iqj3Ba0gZReu",
        "colab_type": "code",
        "colab": {}
      },
      "source": [
        "from math import sqrt"
      ],
      "execution_count": 0,
      "outputs": []
    },
    {
      "cell_type": "code",
      "metadata": {
        "id": "mEYRGZ2AeAgg",
        "colab_type": "code",
        "colab": {}
      },
      "source": [
        "class LVQ:\n",
        "  def __init__(self, num_inputs, num_outputs):\n",
        "    self.weights = np.random.rand(num_outputs, num_inputs)\n",
        "    \n",
        "  def weight_to_class(self, cv):\n",
        "    arr = np.zeros(3)\n",
        "    for i, w in enumerate(self.weights):\n",
        "      if np.array_equal(w, cv):\n",
        "        arr[i] = 1\n",
        "    return arr\n",
        "    \n",
        "  def euclidian_dist(self, vec1, vec2):\n",
        "    distance = 0.0\n",
        "    for i in range(len(vec1)):\n",
        "      distance += (vec1[i] - vec2[i])**2\n",
        "    return sqrt(distance)\n",
        "  \n",
        "  def find_closest_vec(self, pattern):\n",
        "    distances = []\n",
        "    for vec in self.weights:\n",
        "      dist = self.euclidian_dist(pattern, vec)\n",
        "      distances.append((vec, dist))\n",
        "    distances.sort(key=lambda tup: tup[1])\n",
        "    return distances[0][0]\n",
        "  \n",
        "  def train(self, train_x, train_y, lrate, epochs):\n",
        "    for epoch in range(epochs):\n",
        "      rate = lrate * (1.0 - (epoch/float(epochs)))\n",
        "      sum_err = 0.0\n",
        "      for pattern, true_label in zip(train_x, train_y):\n",
        "        closest_vec = self.find_closest_vec(pattern)\n",
        "        pred_label = self.weight_to_class(closest_vec)\n",
        "        for i in range(pattern.size):\n",
        "          error = pattern[i] - closest_vec[i]\n",
        "          sum_err += error**2\n",
        "          if np.array_equal(pred_label, true_label):\n",
        "            closest_vec[i] += rate * error\n",
        "          else:\n",
        "            closest_vec[i] -= rate * error\n",
        "      print(f\">epoch={epoch+1}, lrate={rate:.3f}, error={sum_err:.3f}\")\n",
        "      \n",
        "  def test(self, test_x, test_y):\n",
        "    correct = 0.0\n",
        "    for pattern, label in zip(test_x, test_y):\n",
        "      pred = self.weight_to_class(self.find_closest_vec(pattern))\n",
        "      if np.array_equal(pred, label):\n",
        "        correct += 1\n",
        "      print(f\"actual={label} got={pred}\")\n",
        "    print(f\"correct={correct}\")\n",
        "    print(f\"final accuracy={(correct/len(test_y)):.4f}\")"
      ],
      "execution_count": 0,
      "outputs": []
    },
    {
      "cell_type": "code",
      "metadata": {
        "id": "xS98ifGWfOAC",
        "colab_type": "code",
        "outputId": "96d1a34c-ef93-414f-a38c-ba13f591c0c5",
        "colab": {
          "base_uri": "https://localhost:8080/",
          "height": 85
        }
      },
      "source": [
        "lvq1 = LVQ(4, 3)\n",
        "print(f\"init weights:\\n{lvq1.weights}\")"
      ],
      "execution_count": 9,
      "outputs": [
        {
          "output_type": "stream",
          "text": [
            "init weights:\n",
            "[[0.62597765 0.42866187 0.42888402 0.61753015]\n",
            " [0.32463264 0.10908348 0.64579334 0.87159929]\n",
            " [0.36243363 0.49436485 0.84790053 0.26994328]]\n"
          ],
          "name": "stdout"
        }
      ]
    },
    {
      "cell_type": "code",
      "metadata": {
        "id": "gIvum3TX5jrr",
        "colab_type": "code",
        "colab": {}
      },
      "source": [
        "#Shuffles x, y and onehot array entirely! Very quick!\n",
        "def shuffle(x,y,onehot):\n",
        "    indices = [i for i in range(len(x))]\n",
        "    np.random.shuffle(indices)\n",
        "    return x[indices],y[indices],onehot[indices]"
      ],
      "execution_count": 0,
      "outputs": []
    },
    {
      "cell_type": "code",
      "metadata": {
        "id": "53qimB4wgU32",
        "colab_type": "code",
        "outputId": "a1863dd3-3531-44e1-c0e0-e678f1418809",
        "colab": {
          "base_uri": "https://localhost:8080/",
          "height": 255
        }
      },
      "source": [
        "train_x, train_y, train_y_enc = shuffle(train_x,\n",
        "                                       train_y,train_y_enc)\n",
        "\n",
        "lvq1.train(train_x, train_y_enc, 0.1, 10)\n",
        "print(f\"trained weights:\\n{lvq1.weights}\")"
      ],
      "execution_count": 11,
      "outputs": [
        {
          "output_type": "stream",
          "text": [
            ">epoch=1, lrate=0.100, error=6276.219\n",
            ">epoch=2, lrate=0.090, error=1767.223\n",
            ">epoch=3, lrate=0.080, error=864.858\n",
            ">epoch=4, lrate=0.070, error=842.184\n",
            ">epoch=5, lrate=0.060, error=855.591\n",
            ">epoch=6, lrate=0.050, error=832.740\n",
            ">epoch=7, lrate=0.040, error=830.910\n",
            ">epoch=8, lrate=0.030, error=809.843\n",
            ">epoch=9, lrate=0.020, error=804.642\n",
            ">epoch=10, lrate=0.010, error=794.523\n",
            "trained weights:\n",
            "[[ 4.87247569  3.83628637  0.53129093 -0.13207495]\n",
            " [-2.24274846 -2.17750142  0.04237512  0.6087188 ]\n",
            " [ 7.15599401  3.0551152   7.20661416  3.12351043]]\n"
          ],
          "name": "stdout"
        }
      ]
    },
    {
      "cell_type": "code",
      "metadata": {
        "id": "1EM2hDNlyw4J",
        "colab_type": "code",
        "outputId": "904ca860-7e62-4dfd-e118-42820caf65c4",
        "colab": {
          "base_uri": "https://localhost:8080/",
          "height": 561
        }
      },
      "source": [
        "lvq1.test(test_x, test_y_enc)"
      ],
      "execution_count": 12,
      "outputs": [
        {
          "output_type": "stream",
          "text": [
            "actual=[1 0 0] got=[1. 0. 0.]\n",
            "actual=[1 0 0] got=[1. 0. 0.]\n",
            "actual=[1 0 0] got=[1. 0. 0.]\n",
            "actual=[1 0 0] got=[1. 0. 0.]\n",
            "actual=[1 0 0] got=[1. 0. 0.]\n",
            "actual=[1 0 0] got=[1. 0. 0.]\n",
            "actual=[1 0 0] got=[1. 0. 0.]\n",
            "actual=[1 0 0] got=[1. 0. 0.]\n",
            "actual=[1 0 0] got=[1. 0. 0.]\n",
            "actual=[1 0 0] got=[1. 0. 0.]\n",
            "actual=[0 1 0] got=[1. 0. 0.]\n",
            "actual=[0 1 0] got=[0. 0. 1.]\n",
            "actual=[0 1 0] got=[0. 0. 1.]\n",
            "actual=[0 1 0] got=[0. 0. 1.]\n",
            "actual=[0 1 0] got=[1. 0. 0.]\n",
            "actual=[0 1 0] got=[0. 0. 1.]\n",
            "actual=[0 1 0] got=[0. 0. 1.]\n",
            "actual=[0 1 0] got=[0. 0. 1.]\n",
            "actual=[0 1 0] got=[0. 0. 1.]\n",
            "actual=[0 1 0] got=[1. 0. 0.]\n",
            "actual=[0 0 1] got=[0. 0. 1.]\n",
            "actual=[0 0 1] got=[0. 0. 1.]\n",
            "actual=[0 0 1] got=[0. 0. 1.]\n",
            "actual=[0 0 1] got=[0. 0. 1.]\n",
            "actual=[0 0 1] got=[0. 0. 1.]\n",
            "actual=[0 0 1] got=[0. 0. 1.]\n",
            "actual=[0 0 1] got=[0. 0. 1.]\n",
            "actual=[0 0 1] got=[0. 0. 1.]\n",
            "actual=[0 0 1] got=[0. 0. 1.]\n",
            "actual=[0 0 1] got=[0. 0. 1.]\n",
            "correct=20.0\n",
            "final accuracy=0.6667\n"
          ],
          "name": "stdout"
        }
      ]
    },
    {
      "cell_type": "markdown",
      "metadata": {
        "id": "fTI4-prr4xnQ",
        "colab_type": "text"
      },
      "source": [
        "# PCA - ANN Approach\n"
      ]
    },
    {
      "cell_type": "code",
      "metadata": {
        "id": "7XKqJJVs9y5o",
        "colab_type": "code",
        "colab": {}
      },
      "source": [
        "class PCA:\n",
        "  def __init__(self, num_inputs, num_outputs):\n",
        "    self.weights = np.random.rand(num_outputs, num_inputs)\n",
        "    \n",
        "  def update_weights(self, pattern, lrate):\n",
        "    deltas = np.ndarray((len(self.weights), len(self.weights[0])))\n",
        "    for j in range(len(self.weights)):\n",
        "      for i in range(len(self.weights[0])):\n",
        "        nary_sum = 0\n",
        "        for k in range(j+1):\n",
        "          nary_sum += np.dot(self.weights[k], pattern) * self.weights[k][i]\n",
        "        delta = lrate * (np.dot(self.weights[j], pattern)) * (pattern[i] - nary_sum)\n",
        "        deltas[j][i] = delta\n",
        "    self.weights += deltas\n",
        "  \n",
        "  def train(self, train_x, lrate, iterations):\n",
        "    # for loop covering number of iterations\n",
        "    for iteration in range(iterations):\n",
        "      print(f\"\\nIteration={iteration+1}\")\n",
        "      # in each iteration, loop through all input patterns\n",
        "      for pattern in train_x:\n",
        "        self.update_weights(pattern, lrate)\n",
        "      print(f\"FINAL weights:\\n{self.weights}\")\n",
        "    "
      ],
      "execution_count": 0,
      "outputs": []
    },
    {
      "cell_type": "code",
      "metadata": {
        "id": "hIw9PfdDAJy8",
        "colab_type": "code",
        "colab": {
          "base_uri": "https://localhost:8080/",
          "height": 68
        },
        "outputId": "03fe5f1a-f532-47fc-f84c-3a7e060caddd"
      },
      "source": [
        "pca = PCA(4, 3)\n",
        "print(pca.weights)"
      ],
      "execution_count": 24,
      "outputs": [
        {
          "output_type": "stream",
          "text": [
            "[[0.38194598 0.80253738 0.38749277 0.58541297]\n",
            " [0.31299597 0.72888351 0.17228877 0.78510612]\n",
            " [0.48087847 0.70037853 0.20458419 0.01120433]]\n"
          ],
          "name": "stdout"
        }
      ]
    },
    {
      "cell_type": "code",
      "metadata": {
        "id": "SJUmdCmyAXM6",
        "colab_type": "code",
        "colab": {
          "base_uri": "https://localhost:8080/",
          "height": 1000
        },
        "outputId": "5bb454c2-e42e-4577-8bf7-e81e8c5b2fe1"
      },
      "source": [
        "pca.train(train_x, 0.01, 10)"
      ],
      "execution_count": 25,
      "outputs": [
        {
          "output_type": "stream",
          "text": [
            "\n",
            "Iteration=1\n",
            "FINAL weights:\n",
            "[[ 0.77655226  0.41360993  0.48240851  0.13983704]\n",
            " [ 0.05341689 -0.01838327  0.0792373   0.04635522]\n",
            " [ 0.31064332  0.25798013 -0.42766083 -0.55486346]]\n",
            "\n",
            "Iteration=2\n",
            "FINAL weights:\n",
            "[[ 0.77655226  0.41360993  0.48240851  0.13983704]\n",
            " [-0.10231597 -0.2605531   0.3805412   0.1966484 ]\n",
            " [ 0.2852452   0.4638215  -0.62104247 -0.35439279]]\n",
            "\n",
            "Iteration=3\n",
            "FINAL weights:\n",
            "[[ 0.77655226  0.41360993  0.48240851  0.13983704]\n",
            " [-0.27095737 -0.51080208  0.68725533  0.34872151]\n",
            " [ 0.16399287  0.25863803 -0.33371481 -0.17781623]]\n",
            "\n",
            "Iteration=4\n",
            "FINAL weights:\n",
            "[[ 0.77655226  0.41360993  0.48240851  0.13983704]\n",
            " [-0.28051273 -0.51853563  0.69295     0.35097616]\n",
            " [ 0.10921941  0.1691346  -0.21717591 -0.11571594]]\n",
            "\n",
            "Iteration=5\n",
            "FINAL weights:\n",
            "[[ 0.77655226  0.41360993  0.48240851  0.13983704]\n",
            " [-0.28102048 -0.518695    0.6927932   0.35084427]\n",
            " [ 0.08650615  0.1328757  -0.17084121 -0.09132171]]\n",
            "\n",
            "Iteration=6\n",
            "FINAL weights:\n",
            "[[ 0.77655226  0.41360993  0.48240851  0.13983704]\n",
            " [-0.28105808 -0.51870407  0.69277648  0.35083162]\n",
            " [ 0.07372885  0.11234519 -0.14475943 -0.07767693]]\n",
            "\n",
            "Iteration=7\n",
            "FINAL weights:\n",
            "[[ 0.77655226  0.41360993  0.48240851  0.13983704]\n",
            " [-0.28106098 -0.51870475  0.69277515  0.35083062]\n",
            " [ 0.06530496  0.09863976 -0.12742721 -0.06866861]]\n",
            "\n",
            "Iteration=8\n",
            "FINAL weights:\n",
            "[[ 0.77655226  0.41360993  0.48240851  0.13983704]\n",
            " [-0.28106121 -0.51870481  0.69277505  0.35083054]\n",
            " [ 0.05922431  0.08859704 -0.11479134 -0.06215058]]\n",
            "\n",
            "Iteration=9\n",
            "FINAL weights:\n",
            "[[ 0.77655226  0.41360993  0.48240851  0.13983704]\n",
            " [-0.28106123 -0.51870481  0.69277504  0.35083053]\n",
            " [ 0.05457511  0.0807833  -0.10501816 -0.05715347]]\n",
            "\n",
            "Iteration=10\n",
            "FINAL weights:\n",
            "[[ 0.77655226  0.41360993  0.48240851  0.13983704]\n",
            " [-0.28106123 -0.51870481  0.69277504  0.35083053]\n",
            " [ 0.05087734  0.07444199 -0.09714125 -0.05316713]]\n"
          ],
          "name": "stdout"
        }
      ]
    },
    {
      "cell_type": "code",
      "metadata": {
        "id": "koFKvhJ5nUuV",
        "colab_type": "code",
        "colab": {}
      },
      "source": [
        ""
      ],
      "execution_count": 0,
      "outputs": []
    }
  ]
}